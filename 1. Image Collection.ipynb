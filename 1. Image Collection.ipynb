{
 "cells": [
  {
   "cell_type": "markdown",
   "metadata": {},
   "source": [
    "# 1. Import Dependencies"
   ]
  },
  {
   "cell_type": "code",
   "execution_count": 1,
   "metadata": {},
   "outputs": [
    {
     "name": "stdout",
     "output_type": "stream",
     "text": [
      "Requirement already satisfied: opencv-python in c:\\users\\sumit\\appdata\\local\\programs\\python\\python310\\lib\\site-packages (4.8.0.76)\n",
      "Requirement already satisfied: numpy>=1.21.2 in c:\\users\\sumit\\appdata\\local\\programs\\python\\python310\\lib\\site-packages (from opencv-python) (1.24.3)\n"
     ]
    },
    {
     "name": "stderr",
     "output_type": "stream",
     "text": [
      "\n",
      "[notice] A new release of pip is available: 23.2.1 -> 24.0\n",
      "[notice] To update, run: python.exe -m pip install --upgrade pip\n"
     ]
    }
   ],
   "source": [
    "!pip install opencv-python"
   ]
  },
  {
   "cell_type": "code",
   "execution_count": 2,
   "metadata": {},
   "outputs": [],
   "source": [
    "# Import opencv\n",
    "import cv2 \n",
    "\n",
    "# Import uuid\n",
    "import uuid\n",
    "\n",
    "# Import Operating System\n",
    "import os\n",
    "\n",
    "# Import time\n",
    "import time"
   ]
  },
  {
   "cell_type": "markdown",
   "metadata": {},
   "source": [
    "# 2. Define Images to Collect"
   ]
  },
  {
   "cell_type": "code",
   "execution_count": 9,
   "metadata": {},
   "outputs": [
    {
     "data": {
      "text/plain": [
       "1"
      ]
     },
     "execution_count": 9,
     "metadata": {},
     "output_type": "execute_result"
    }
   ],
   "source": [
    "labels = ['thumbsup', 'thumbsdown', 'thankyou', 'livelong']\n",
    "number_imgs = 1\n",
    "number_imgs"
   ]
  },
  {
   "cell_type": "markdown",
   "metadata": {},
   "source": [
    "# 3. Setup Folders "
   ]
  },
  {
   "cell_type": "code",
   "execution_count": 10,
   "metadata": {},
   "outputs": [
    {
     "name": "stdout",
     "output_type": "stream",
     "text": [
      "Tensorflow\\workspace\\images\\collectedimages\n"
     ]
    }
   ],
   "source": [
    "IMAGES_PATH = os.path.join('Tensorflow', 'workspace', 'images', 'collectedimages')\n",
    "print(IMAGES_PATH)"
   ]
  },
  {
   "cell_type": "code",
   "execution_count": 11,
   "metadata": {},
   "outputs": [
    {
     "data": {
      "text/plain": [
       "'nt'"
      ]
     },
     "execution_count": 11,
     "metadata": {},
     "output_type": "execute_result"
    }
   ],
   "source": [
    "os.name"
   ]
  },
  {
   "cell_type": "code",
   "execution_count": 12,
   "metadata": {},
   "outputs": [],
   "source": [
    "if not os.path.exists(IMAGES_PATH):\n",
    "    if os.name == 'posix':\n",
    "        !mkdir -p {IMAGES_PATH}\n",
    "    if os.name == 'nt':\n",
    "         !mkdir {IMAGES_PATH}\n",
    "for label in labels:\n",
    "    path = os.path.join(IMAGES_PATH, label)\n",
    "    if not os.path.exists(path):\n",
    "        !mkdir {path}"
   ]
  },
  {
   "cell_type": "markdown",
   "metadata": {},
   "source": [
    "# 4. Capture Images"
   ]
  },
  {
   "cell_type": "code",
   "execution_count": 13,
   "metadata": {},
   "outputs": [
    {
     "name": "stdout",
     "output_type": "stream",
     "text": [
      "Collecting images for thumbsup\n",
      "Collecting image 0\n",
      "Collecting images for thumbsdown\n",
      "Collecting image 0\n",
      "Collecting images for thankyou\n",
      "Collecting image 0\n",
      "Collecting images for livelong\n",
      "Collecting image 0\n"
     ]
    }
   ],
   "source": [
    "for label in labels:\n",
    "    cap = cv2.VideoCapture(0)\n",
    "    print('Collecting images for {}'.format(label))\n",
    "    time.sleep(3)\n",
    "    for imgnum in range(number_imgs):\n",
    "        print('Collecting image {}'.format(imgnum))\n",
    "        ret, frame = cap.read()\n",
    "        imgname = os.path.join(IMAGES_PATH,label,label+'.'+'{}.jpg'.format(str(uuid.uuid1())))\n",
    "        cv2.imwrite(imgname, frame)\n",
    "        cv2.imshow('frame', frame)\n",
    "        time.sleep(2)\n",
    "\n",
    "        if cv2.waitKey(1) & 0xFF == ord('q'):\n",
    "            break\n",
    "cap.release()\n",
    "cv2.destroyAllWindows()"
   ]
  },
  {
   "cell_type": "markdown",
   "metadata": {},
   "source": [
    "# 5. Image Labelling"
   ]
  },
  {
   "cell_type": "code",
   "execution_count": 8,
   "metadata": {},
   "outputs": [
    {
     "name": "stdout",
     "output_type": "stream",
     "text": [
      "Requirement already satisfied: pyqt5 in c:\\users\\sumit\\appdata\\local\\programs\\python\\python310\\lib\\site-packages (5.15.10)\n",
      "Requirement already satisfied: lxml in c:\\users\\sumit\\appdata\\local\\programs\\python\\python310\\lib\\site-packages (4.9.3)\n",
      "Collecting lxml\n",
      "  Obtaining dependency information for lxml from https://files.pythonhosted.org/packages/dc/3d/53c664318c9ab5bfbe9b9b3b6be0d04a2fa161f4cd35d731d27a0f754253/lxml-5.1.0-cp310-cp310-win_amd64.whl.metadata\n",
      "  Downloading lxml-5.1.0-cp310-cp310-win_amd64.whl.metadata (3.6 kB)\n",
      "Requirement already satisfied: PyQt5-sip<13,>=12.13 in c:\\users\\sumit\\appdata\\local\\programs\\python\\python310\\lib\\site-packages (from pyqt5) (12.13.0)\n",
      "Requirement already satisfied: PyQt5-Qt5>=5.15.2 in c:\\users\\sumit\\appdata\\local\\programs\\python\\python310\\lib\\site-packages (from pyqt5) (5.15.2)\n",
      "Downloading lxml-5.1.0-cp310-cp310-win_amd64.whl (3.9 MB)\n",
      "   ---------------------------------------- 0.0/3.9 MB ? eta -:--:--\n",
      "   ---------------------------------------- 0.0/3.9 MB 991.0 kB/s eta 0:00:04\n",
      "   -- ------------------------------------- 0.3/3.9 MB 4.5 MB/s eta 0:00:01\n",
      "   ----- ---------------------------------- 0.5/3.9 MB 4.5 MB/s eta 0:00:01\n",
      "   -------- ------------------------------- 0.8/3.9 MB 5.0 MB/s eta 0:00:01\n",
      "   ---------- ----------------------------- 1.1/3.9 MB 5.1 MB/s eta 0:00:01\n",
      "   -------------- ------------------------- 1.4/3.9 MB 5.4 MB/s eta 0:00:01\n",
      "   --------------- ------------------------ 1.5/3.9 MB 4.8 MB/s eta 0:00:01\n",
      "   ----------------- ---------------------- 1.7/3.9 MB 5.0 MB/s eta 0:00:01\n",
      "   -------------------- ------------------- 2.0/3.9 MB 5.4 MB/s eta 0:00:01\n",
      "   ---------------------- ----------------- 2.2/3.9 MB 5.2 MB/s eta 0:00:01\n",
      "   ------------------------- -------------- 2.5/3.9 MB 5.3 MB/s eta 0:00:01\n",
      "   ---------------------------- ----------- 2.8/3.9 MB 5.4 MB/s eta 0:00:01\n",
      "   ------------------------------ --------- 3.0/3.9 MB 5.3 MB/s eta 0:00:01\n",
      "   -------------------------------- ------- 3.2/3.9 MB 5.3 MB/s eta 0:00:01\n",
      "   ----------------------------------- ---- 3.5/3.9 MB 5.3 MB/s eta 0:00:01\n",
      "   ---------------------------------------  3.9/3.9 MB 5.5 MB/s eta 0:00:01\n",
      "   ---------------------------------------- 3.9/3.9 MB 5.2 MB/s eta 0:00:00\n",
      "Installing collected packages: lxml\n",
      "  Attempting uninstall: lxml\n",
      "    Found existing installation: lxml 4.9.3\n",
      "    Uninstalling lxml-4.9.3:\n",
      "      Successfully uninstalled lxml-4.9.3\n"
     ]
    },
    {
     "name": "stderr",
     "output_type": "stream",
     "text": [
      "ERROR: Could not install packages due to an OSError: [WinError 5] Access is denied: 'C:\\\\Users\\\\sumit\\\\AppData\\\\Local\\\\Programs\\\\Python\\\\Python310\\\\Lib\\\\site-packages\\\\~xml\\\\etree.cp310-win_amd64.pyd'\n",
      "Consider using the `--user` option or check the permissions.\n",
      "\n",
      "\n",
      "[notice] A new release of pip is available: 23.2.1 -> 24.0\n",
      "[notice] To update, run: python.exe -m pip install --upgrade pip\n"
     ]
    },
    {
     "name": "stdout",
     "output_type": "stream",
     "text": [
      "Package                       Version      Editable project location\n",
      "----------------------------- ------------ -------------------------------------------------------------\n",
      "absl-py                       1.4.0\n",
      "anyio                         4.0.0\n",
      "apache-beam                   2.50.0\n",
      "argon2-cffi                   23.1.0\n",
      "argon2-cffi-bindings          21.2.0\n",
      "array-record                  0.4.1\n",
      "arrow                         1.2.3\n",
      "asttokens                     2.4.0\n",
      "astunparse                    1.6.3\n",
      "async-lru                     2.0.4\n",
      "attrs                         23.1.0\n",
      "avro-python3                  1.10.2\n",
      "Babel                         2.12.1\n",
      "backcall                      0.2.0\n",
      "beautifulsoup4                4.12.2\n",
      "bleach                        6.0.0\n",
      "cachetools                    5.3.1\n",
      "certifi                       2023.7.22\n",
      "cffi                          1.15.1\n",
      "charset-normalizer            3.2.0\n",
      "click                         8.1.7\n",
      "cloudpickle                   2.2.1\n",
      "colorama                      0.4.6\n",
      "comm                          0.1.4\n",
      "contextlib2                   21.6.0\n",
      "contourpy                     1.1.1\n",
      "crcmod                        1.7\n",
      "cycler                        0.11.0\n",
      "Cython                        3.0.2\n",
      "debugpy                       1.7.0\n",
      "decorator                     5.1.1\n",
      "defusedxml                    0.7.1\n",
      "dill                          0.3.1.1\n",
      "dm-tree                       0.1.8\n",
      "dnspython                     2.4.2\n",
      "docopt                        0.6.2\n",
      "easydict                      1.10\n",
      "etils                         1.5.0\n",
      "exceptiongroup                1.1.3\n",
      "executing                     1.2.0\n",
      "fastavro                      1.8.3\n",
      "fasteners                     0.19\n",
      "fastjsonschema                2.18.0\n",
      "flatbuffers                   23.1.21\n",
      "fonttools                     4.42.1\n",
      "fqdn                          1.5.1\n",
      "fsspec                        2023.9.1\n",
      "gast                          0.4.0\n",
      "gin-config                    0.5.0\n",
      "google-api-core               2.11.1\n",
      "google-api-python-client      1.6.7\n",
      "google-auth                   2.23.0\n",
      "google-auth-oauthlib          0.4.6\n",
      "google-cloud-core             2.3.3\n",
      "google-cloud-storage          2.11.0\n",
      "google-crc32c                 1.5.0\n",
      "google-pasta                  0.2.0\n",
      "google-resumable-media        2.6.0\n",
      "googleapis-common-protos      1.60.0\n",
      "grpcio                        1.58.0\n",
      "h5py                          3.9.0\n",
      "hdfs                          2.7.2\n",
      "httplib2                      0.22.0\n",
      "idna                          3.4\n",
      "immutabledict                 3.0.0\n",
      "importlib-resources           6.1.0\n",
      "ipykernel                     6.25.2\n",
      "ipython                       8.15.0\n",
      "ipython-genutils              0.2.0\n",
      "ipywidgets                    8.1.0\n",
      "isoduration                   20.11.0\n",
      "jedi                          0.19.0\n",
      "Jinja2                        3.1.2\n",
      "joblib                        1.3.2\n",
      "json5                         0.9.14\n",
      "jsonpointer                   2.4\n",
      "jsonschema                    4.19.0\n",
      "jsonschema-specifications     2023.7.1\n",
      "jupyter                       1.0.0\n",
      "jupyter_client                8.3.1\n",
      "jupyter-console               6.6.3\n",
      "jupyter_core                  5.3.1\n",
      "jupyter-events                0.7.0\n",
      "jupyter-lsp                   2.2.0\n",
      "jupyter_server                2.7.3\n",
      "jupyter_server_terminals      0.4.4\n",
      "jupyterlab                    4.0.5\n",
      "jupyterlab-pygments           0.2.2\n",
      "jupyterlab_server             2.24.0\n",
      "jupyterlab-widgets            3.0.8\n",
      "kaggle                        1.3.9\n",
      "keras                         2.14.0\n",
      "Keras-Preprocessing           1.1.2\n",
      "kiwisolver                    1.4.5\n",
      "libclang                      16.0.6\n",
      "lvis                          0.5.3\n",
      "lxml                          5.1.0\n",
      "Markdown                      3.4.4\n",
      "MarkupSafe                    2.1.3\n",
      "matplotlib                    3.8.1\n",
      "matplotlib-inline             0.1.6\n",
      "mistune                       3.0.1\n",
      "nbclient                      0.8.0\n",
      "nbconvert                     7.8.0\n",
      "nbformat                      5.9.2\n",
      "nest-asyncio                  1.5.7\n",
      "notebook                      7.0.3\n",
      "notebook_shim                 0.2.3\n",
      "numpy                         1.24.3\n",
      "oauth2client                  4.1.3\n",
      "oauthlib                      3.2.2\n",
      "object-detection              0.1\n",
      "objsize                       0.6.1\n",
      "opencv-python                 4.8.0.76\n",
      "opencv-python-headless        4.8.0.76\n",
      "opt-einsum                    3.3.0\n",
      "orjson                        3.9.7\n",
      "overrides                     7.4.0\n",
      "package-name                  0.1\n",
      "packaging                     23.1\n",
      "pandas                        2.1.0\n",
      "pandocfilters                 1.5.0\n",
      "parso                         0.8.3\n",
      "pickleshare                   0.7.5\n",
      "Pillow                        10.0.1\n",
      "pip                           23.2.1\n",
      "pipdeptree                    2.13.0\n",
      "platformdirs                  3.10.0\n",
      "portalocker                   2.8.2\n",
      "prometheus-client             0.17.1\n",
      "promise                       2.3\n",
      "prompt-toolkit                3.0.39\n",
      "proto-plus                    1.22.3\n",
      "protobuf                      3.20.0\n",
      "protos                        0.1.0\n",
      "psutil                        5.9.5\n",
      "pure-eval                     0.2.2\n",
      "py-cpuinfo                    3.3.0\n",
      "pyarrow                       11.0.0\n",
      "pyasn1                        0.5.0\n",
      "pyasn1-modules                0.3.0\n",
      "pycocotools                   2.0.7\n",
      "pycparser                     2.21\n",
      "pydot                         1.4.2\n",
      "Pygments                      2.16.1\n",
      "pymongo                       4.5.0\n",
      "pyparsing                     2.4.7\n",
      "PyQt5                         5.15.10\n",
      "PyQt5-Qt5                     5.15.2\n",
      "PyQt5-sip                     12.13.0\n",
      "pytesseract                   0.3.10\n",
      "python-dateutil               2.8.2\n",
      "python-json-logger            2.0.7\n",
      "pytz                          2023.3.post1\n",
      "pywin32                       306\n",
      "pywinpty                      2.0.11\n",
      "PyYAML                        6.0.1\n",
      "pyzmq                         25.1.1\n",
      "qtconsole                     5.4.4\n",
      "QtPy                          2.4.0\n",
      "referencing                   0.30.2\n",
      "regex                         2023.8.8\n",
      "requests                      2.31.0\n",
      "requests-oauthlib             1.3.1\n",
      "rfc3339-validator             0.1.4\n",
      "rfc3986-validator             0.1.1\n",
      "rpds-py                       0.10.2\n",
      "rsa                           4.9\n",
      "sacrebleu                     2.2.0\n",
      "scikit-learn                  1.3.1\n",
      "scipy                         1.11.2\n",
      "Send2Trash                    1.8.2\n",
      "sentencepiece                 0.1.99\n",
      "seqeval                       1.2.2\n",
      "setuptools                    68.2.2\n",
      "six                           1.16.0\n",
      "slim                          0.1          c:\\users\\sumit\\ten\\tfodcourse\\tensorflow\\models\\research\\slim\n",
      "sniffio                       1.3.0\n",
      "soupsieve                     2.5\n",
      "stack-data                    0.6.2\n",
      "tabulate                      0.9.0\n",
      "tensorboard                   2.9.1\n",
      "tensorboard-data-server       0.6.1\n",
      "tensorboard-plugin-wit        1.8.1\n",
      "tensorflow                    2.9.3\n",
      "tensorflow-datasets           4.9.3\n",
      "tensorflow-estimator          2.9.0\n",
      "tensorflow-hub                0.14.0\n",
      "tensorflow-intel              2.13.0\n",
      "tensorflow-io                 0.31.0\n",
      "tensorflow-io-gcs-filesystem  0.31.0\n",
      "tensorflow-metadata           1.14.0\n",
      "tensorflow-model-optimization 0.4.1\n",
      "tensorflow-text               2.9.0\n",
      "termcolor                     2.3.0\n",
      "terminado                     0.17.1\n",
      "tf-models-official            2.13.2\n",
      "tf-slim                       1.1.0\n",
      "threadpoolctl                 3.2.0\n",
      "tinycss2                      1.2.1\n",
      "toml                          0.10.2\n",
      "tomli                         2.0.1\n",
      "tornado                       6.3.3\n",
      "tqdm                          4.66.1\n",
      "traitlets                     5.9.0\n",
      "typing_extensions             4.5.0\n",
      "tzdata                        2023.3\n",
      "uri-template                  1.3.0\n",
      "uritemplate                   3.0.1\n",
      "urllib3                       1.26.16\n",
      "wcwidth                       0.2.6\n",
      "webcolors                     1.13\n",
      "webencodings                  0.5.1\n",
      "websocket-client              1.6.2\n",
      "Werkzeug                      2.3.7\n",
      "wget                          3.2\n",
      "wheel                         0.41.2\n",
      "widgetsnbextension            4.0.8\n",
      "wrapt                         1.15.0\n",
      "zipp                          3.17.0\n",
      "zstandard                     0.21.0\n"
     ]
    },
    {
     "name": "stderr",
     "output_type": "stream",
     "text": [
      "\n",
      "[notice] A new release of pip is available: 23.2.1 -> 24.0\n",
      "[notice] To update, run: python.exe -m pip install --upgrade pip\n"
     ]
    }
   ],
   "source": [
    "!pip install --upgrade pyqt5 lxml\n",
    "!pip list"
   ]
  },
  {
   "cell_type": "code",
   "execution_count": 9,
   "metadata": {},
   "outputs": [
    {
     "data": {
      "text/plain": [
       "'Tensorflow\\\\labelimg'"
      ]
     },
     "execution_count": 9,
     "metadata": {},
     "output_type": "execute_result"
    }
   ],
   "source": [
    "LABELIMG_PATH = os.path.join('Tensorflow', 'labelimg')\n",
    "LABELIMG_PATH"
   ]
  },
  {
   "cell_type": "code",
   "execution_count": 10,
   "metadata": {},
   "outputs": [],
   "source": [
    "if not os.path.exists(LABELIMG_PATH):\n",
    "    !mkdir {LABELIMG_PATH}\n",
    "    !git clone https://github.com/tzutalin/labelImg {LABELIMG_PATH}\n",
    "    "
   ]
  },
  {
   "cell_type": "code",
   "execution_count": 11,
   "metadata": {},
   "outputs": [
    {
     "data": {
      "text/plain": [
       "'Tensorflow\\\\labelimg'"
      ]
     },
     "execution_count": 11,
     "metadata": {},
     "output_type": "execute_result"
    }
   ],
   "source": [
    "LABELIMG_PATH"
   ]
  },
  {
   "cell_type": "code",
   "execution_count": 12,
   "metadata": {
    "scrolled": true
   },
   "outputs": [
    {
     "name": "stderr",
     "output_type": "stream",
     "text": [
      "C:\\Users\\sumit\\AppData\\Local\\Programs\\Python\\Python310\\Scripts\\pyrcc5: File does not exist 'resorces.qrc'\n"
     ]
    }
   ],
   "source": [
    "if os.name == 'posix':\n",
    "    !cd {LABELIMG_PATH} && make qt5py3\n",
    "if os.name =='nt':\n",
    "    !cd {LABELIMG_PATH} && pyrcc5 -o libs/resources.py resorces.qrc"
   ]
  },
  {
   "cell_type": "code",
   "execution_count": 13,
   "metadata": {},
   "outputs": [
    {
     "name": "stderr",
     "output_type": "stream",
     "text": [
      "python: can't open file 'C:\\\\Users\\\\sumit\\\\Ten\\\\TFODCourse\\\\Tensorflow\\\\labelimg\\\\labelImg.py': [Errno 2] No such file or directory\n"
     ]
    }
   ],
   "source": [
    "!cd {LABELIMG_PATH} && python labelImg.py"
   ]
  },
  {
   "cell_type": "markdown",
   "metadata": {},
   "source": [
    "# 6. Move them into a Training and Testing Partition"
   ]
  },
  {
   "cell_type": "markdown",
   "metadata": {},
   "source": [
    "# OPTIONAL - 7. Compress them for Colab Training"
   ]
  },
  {
   "cell_type": "code",
   "execution_count": 14,
   "metadata": {},
   "outputs": [],
   "source": [
    "TRAIN_PATH = os.path.join('Tensorflow', 'workspace', 'images', 'train')\n",
    "TEST_PATH = os.path.join('Tensorflow', 'workspace', 'images', 'test')\n",
    "ARCHIVE_PATH = os.path.join('Tensorflow', 'workspace', 'images', 'archive.tar.gz')"
   ]
  },
  {
   "cell_type": "code",
   "execution_count": 15,
   "metadata": {},
   "outputs": [
    {
     "name": "stderr",
     "output_type": "stream",
     "text": [
      "tar: indowsPowerShell\\v1.????:\\windows\\System32\\O?????????????????: Couldn't visit directory: No such file or directory\n",
      "tar: : Couldn't visit directory: No such file or directory\n",
      "tar: Error exit delayed from previous errors.\n"
     ]
    }
   ],
   "source": [
    "!tar -czf {ARCHIVE_PATH} {TRAIN_PATH} {TEST_PATH}"
   ]
  },
  {
   "cell_type": "code",
   "execution_count": null,
   "metadata": {},
   "outputs": [],
   "source": []
  },
  {
   "cell_type": "code",
   "execution_count": null,
   "metadata": {},
   "outputs": [],
   "source": []
  },
  {
   "cell_type": "code",
   "execution_count": null,
   "metadata": {},
   "outputs": [],
   "source": []
  }
 ],
 "metadata": {
  "kernelspec": {
   "display_name": "tfodj",
   "language": "python",
   "name": "tfodj"
  },
  "language_info": {
   "codemirror_mode": {
    "name": "ipython",
    "version": 3
   },
   "file_extension": ".py",
   "mimetype": "text/x-python",
   "name": "python",
   "nbconvert_exporter": "python",
   "pygments_lexer": "ipython3",
   "version": "3.10.0"
  }
 },
 "nbformat": 4,
 "nbformat_minor": 4
}
